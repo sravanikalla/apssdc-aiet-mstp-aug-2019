import re
In [3]:
# match(pattern,text)
re.match('a','apple')
Out[3]:
<re.Match object; span=(0, 1), match='a'>
In [5]:
print(re.match('a','hai'))
None
In [6]:
re.search('a','haii')
Out[6]:
<re.Match object; span=(1, 2), match='a'>
In [7]:
re.search('aii','haii')
Out[7]:
<re.Match object; span=(1, 4), match='aii'>
In [8]:
re.findall('[abcde]','hello hai how are you')
Out[8]:
['e', 'a', 'a', 'e']
In [9]:
re.search('[abcde]','hello hai how are you')
Out[9]:
<re.Match object; span=(1, 2), match='e'>
In [10]:
re.search('[a-e]','hello hai how are you')
Out[10]:
<re.Match object; span=(1, 2), match='e'>
In [12]:
re.findall('[a-m]','hello hai how are you')
Out[12]:
['h', 'e', 'l', 'l', 'h', 'a', 'i', 'h', 'a', 'e']
In [13]:
rollno = "13a85a0505"
re.findall('[0-9]',rollno)
Out[13]:
['1', '3', '8', '5', '0', '5', '0', '5']
In [14]:
def findbypattern(pattern):
    names=["uma mahesh","krishna","ravi sastry","balu","rakesh"]
    for name in names:
        if re.search(pattern,name):
            print(name)
In [16]:
findbypattern("h")
uma mahesh
krishna
rakesh
In [17]:
findbypattern("^r")
ravi sastry
rakesh
to print the names which endswith h character $ used to match the ending character of string

In [18]:
findbypattern("h$")
uma mahesh
rakesh
In [19]:
# ^ used to match the starting of the string
findbypattern("^[abcde]")
balu
In [20]:
findbypattern("^[a-e]")
balu
In [21]:
findbypattern("^[aeiou]")
uma mahesh
In [22]:
findbypattern("^[^aeiou]")
krishna
ravi sastry
balu
rakesh
In [23]:
findbypattern("[aeiou]$")
krishna
balu
In [24]:
findbypattern(".")
uma mahesh
krishna
ravi sastry
balu
rakesh
In [25]:
findbypattern("....")
uma mahesh
krishna
ravi sastry