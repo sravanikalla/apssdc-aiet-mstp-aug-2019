{
 "cells": [
  {
   "cell_type": "markdown",
   "metadata": {},
   "source": [
    "## tasks:"
   ]
  },
  {
   "cell_type": "markdown",
   "metadata": {},
   "source": [
    "#### Question-1: Write a Python Program to largest of three given numbers (using input statement)\n",
    "Sample:Output:\n",
    "A = 31\n",
    "B = 75\n",
    "C = 21\n",
    "Largest Number is 75"
   ]
  },
  {
   "cell_type": "code",
   "execution_count": 2,
   "metadata": {},
   "outputs": [
    {
     "name": "stdout",
     "output_type": "stream",
     "text": [
      "enter 1st number31\n",
      "enter 2nd number75\n",
      "enter 3rd number21\n",
      "75 is largest number\n"
     ]
    }
   ],
   "source": [
    "# solution for question 1:\n",
    "a = int(input(\"enter 1st number\"))\n",
    "b = int(input(\"enter 2nd number\"))\n",
    "c = int(input(\"enter 3rd number\"))\n",
    "if a > b > c:\n",
    "    printf(a,\"is largest number\")\n",
    "elif b > a > c:\n",
    "    print(b,\"is largest number\")\n",
    "else:\n",
    "        print(c,\"is largest number\")"
   ]
  },
  {
   "cell_type": "markdown",
   "metadata": {},
   "source": [
    "### Question -2: Write a python program to find the given number(N) in given range(lower bound-upper bound)\n",
    "Input Format:\n",
    "Enter Lower bound number: 10\n",
    "Enter Upper bound number: 20\n",
    "Enter N: 15\n",
    "Output Format:\n",
    "given number is exist"
   ]
  },
  {
   "cell_type": "code",
   "execution_count": 3,
   "metadata": {},
   "outputs": [
    {
     "name": "stdout",
     "output_type": "stream",
     "text": [
      "enter lower bound number10\n",
      "enter upper bound number20\n",
      "enter number15\n",
      "15  exist\n"
     ]
    }
   ],
   "source": [
    "# solution for question 2:\n",
    "lb = int(input(\"enter lower bound number\"))\n",
    "ub = int(input(\"enter upper bound number\"))\n",
    "n = int(input(\"enter number\"))\n",
    "if(n>=lb and n<=ub):\n",
    "    print(n,' exist')\n",
    "else:\n",
    "    print(n,'not exist')"
   ]
  },
  {
   "cell_type": "code",
   "execution_count": null,
   "metadata": {},
   "outputs": [],
   "source": []
  }
 ],
 "metadata": {
  "kernelspec": {
   "display_name": "Python 3",
   "language": "python",
   "name": "python3"
  },
  "language_info": {
   "codemirror_mode": {
    "name": "ipython",
    "version": 3
   },
   "file_extension": ".py",
   "mimetype": "text/x-python",
   "name": "python",
   "nbconvert_exporter": "python",
   "pygments_lexer": "ipython3",
   "version": "3.7.3"
  }
 },
 "nbformat": 4,
 "nbformat_minor": 2
}
