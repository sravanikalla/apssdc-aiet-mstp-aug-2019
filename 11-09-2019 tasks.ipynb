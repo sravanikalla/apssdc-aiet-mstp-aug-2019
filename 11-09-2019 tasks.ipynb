{
 "cells": [
  {
   "cell_type": "markdown",
   "metadata": {},
   "source": [
    "## Tasks"
   ]
  },
  {
   "cell_type": "markdown",
   "metadata": {},
   "source": [
    "### Question-1:\n",
    "#### Prime Number: need to print the series of all prime numbers till N.\n",
    "Input Format:\n",
    "10\n",
    "Output Format:\n",
    "2 3 5 7\n"
   ]
  },
  {
   "cell_type": "code",
   "execution_count": 9,
   "metadata": {},
   "outputs": [
    {
     "name": "stdout",
     "output_type": "stream",
     "text": [
      "enter number10\n",
      "prime numbers between 1 and 10 are:\n",
      "2 3 5 7 "
     ]
    }
   ],
   "source": [
    "# solution for question 1:\n",
    "initial = 1\n",
    "n=int(input(\"enter number\"))\n",
    "print(\"prime numbers between\",initial,\"and\",n,\"are:\")\n",
    "for number in range(initial,n+1):\n",
    "    if number>1:\n",
    "        for i in range(2,int(number/2)+1):\n",
    "            if(number%i)==0:\n",
    "                break\n",
    "        else:\n",
    "            print(number,end=\" \")\n",
    "        \n"
   ]
  },
  {
   "cell_type": "markdown",
   "metadata": {},
   "source": [
    "### Question-2:\n",
    "Count Divisors: You have been given 3 integers - l, r and k. Find how many numbers between l and r (both inclusive) are divisible by k.\n",
    "Input Format:\n",
    "1 10 1\n",
    "Output Format:\n",
    "10\n"
   ]
  },
  {
   "cell_type": "code",
   "execution_count": 10,
   "metadata": {},
   "outputs": [
    {
     "name": "stdout",
     "output_type": "stream",
     "text": [
      "enter1\n",
      "enter10\n",
      "enter1\n",
      "10\n"
     ]
    }
   ],
   "source": [
    "# solution for question 2:\n",
    "l = int(input(\"enter\"))\n",
    "r = int(input(\"enter\"))\n",
    "k = int(input(\"enter\"))\n",
    "count = 0\n",
    "for i in range(l,r+1):\n",
    "    if(i%k==0):\n",
    "        count = count+1\n",
    "print(count)"
   ]
  },
  {
   "cell_type": "markdown",
   "metadata": {},
   "source": [
    "### Question-3:\n",
    "Word Frequency: need to print words with frequency from given sentence (string) in dictionary format\n",
    "Input Format:\n",
    "ravi ramu balu ravi raghu\n",
    "Output Format:\n",
    "{“ravi”:2, “ramu”:1, “balu”:1, “raghu”:1}"
   ]
  },
  {
   "cell_type": "code",
   "execution_count": 3,
   "metadata": {},
   "outputs": [
    {
     "name": "stdout",
     "output_type": "stream",
     "text": [
      "enter a stringravi ramu balu ravi raghu\n"
     ]
    },
    {
     "data": {
      "text/plain": [
       "{'ravi': 2, 'ramu': 1, 'balu': 1, 'raghu': 1}"
      ]
     },
     "execution_count": 3,
     "metadata": {},
     "output_type": "execute_result"
    }
   ],
   "source": [
    "# solution for question 3:\n",
    "s=input(\"enter a string\")\n",
    "name=s.split(\" \")\n",
    "d={}\n",
    "for word in name:\n",
    "    d[word]=d.get(word,0)+1\n",
    "d"
   ]
  },
  {
   "cell_type": "code",
   "execution_count": null,
   "metadata": {},
   "outputs": [],
   "source": []
  }
 ],
 "metadata": {
  "kernelspec": {
   "display_name": "Python 3",
   "language": "python",
   "name": "python3"
  },
  "language_info": {
   "codemirror_mode": {
    "name": "ipython",
    "version": 3
   },
   "file_extension": ".py",
   "mimetype": "text/x-python",
   "name": "python",
   "nbconvert_exporter": "python",
   "pygments_lexer": "ipython3",
   "version": "3.7.3"
  }
 },
 "nbformat": 4,
 "nbformat_minor": 2
}
