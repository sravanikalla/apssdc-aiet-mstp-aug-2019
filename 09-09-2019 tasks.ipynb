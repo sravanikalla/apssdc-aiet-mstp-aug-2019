{
 "cells": [
  {
   "cell_type": "markdown",
   "metadata": {},
   "source": [
    "### Question -1:\n",
    "Maximum length: Print the words which length has maximum if multiple names has max length print that names in same line.\n",
    "Sample Input :\n",
    "mahesh ravi raghu krish balu\n",
    "Sample output : mahesh"
   ]
  },
  {
   "cell_type": "markdown",
   "metadata": {},
   "source": [
    "#### solution:"
   ]
  },
  {
   "cell_type": "code",
   "execution_count": 2,
   "metadata": {},
   "outputs": [
    {
     "name": "stdout",
     "output_type": "stream",
     "text": [
      "mahesh\n",
      "nagesh\n"
     ]
    }
   ],
   "source": [
    "names = \"mahesh ravi raghu krish balu nagesh\"\n",
    "names_list = names.split(\" \")\n",
    "names_list\n",
    "l=[]\n",
    "for name in names_list:\n",
    "    l.append(len(name))\n",
    "max_length = max(l)\n",
    "for name in names_list:\n",
    "    if len(name)==max_length:\n",
    "        print(name)\n"
   ]
  },
  {
   "cell_type": "markdown",
   "metadata": {},
   "source": [
    "### Question -2:\n",
    "Palindrome: Need to find and print whether this string is a palindrome or not. If yes, print \"YES\" else print \"NO\".\n",
    "Sample Input :\n",
    "LoL\n",
    "Sample output : YES"
   ]
  },
  {
   "cell_type": "markdown",
   "metadata": {},
   "source": [
    "#### solution:"
   ]
  },
  {
   "cell_type": "code",
   "execution_count": 3,
   "metadata": {},
   "outputs": [
    {
     "name": "stdout",
     "output_type": "stream",
     "text": [
      "enter a stringsravani\n",
      "no\n"
     ]
    }
   ],
   "source": [
    "a = input(\"enter a string\")\n",
    "b = a[::-1]\n",
    "if(a==b):\n",
    "    print(\"yes\")\n",
    "else:\n",
    "    print(\"no\")\n"
   ]
  },
  {
   "cell_type": "markdown",
   "metadata": {},
   "source": [
    "### Question -3:\n",
    "Toggle String: You have been given a String S consisting of uppercase and lowercase English alphabets. You need to change the case of each alphabet in this String.\n",
    "Sample Input :\n",
    "hElLo\n",
    "Sample output : HeLlO"
   ]
  },
  {
   "cell_type": "markdown",
   "metadata": {},
   "source": [
    "#### solution:"
   ]
  },
  {
   "cell_type": "code",
   "execution_count": null,
   "metadata": {},
   "outputs": [],
   "source": [
    "k = input(\"enter a string\")\n",
    "print(k.swapcase())"
   ]
  }
 ],
 "metadata": {
  "kernelspec": {
   "display_name": "Python 3",
   "language": "python",
   "name": "python3"
  },
  "language_info": {
   "codemirror_mode": {
    "name": "ipython",
    "version": 3
   },
   "file_extension": ".py",
   "mimetype": "text/x-python",
   "name": "python",
   "nbconvert_exporter": "python",
   "pygments_lexer": "ipython3",
   "version": "3.7.3"
  }
 },
 "nbformat": 4,
 "nbformat_minor": 2
}
